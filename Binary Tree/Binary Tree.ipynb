{
 "cells": [
  {
   "cell_type": "markdown",
   "metadata": {},
   "source": [
    "## Binary Tree\n",
    "### Using Linked List\n",
    "Traversal"
   ]
  },
  {
   "cell_type": "markdown",
   "metadata": {},
   "source": [
    "<img src = 'https://media.geeksforgeeks.org/wp-content/cdn-uploads/Preorder-from-Inorder-and-Postorder-traversals.jpg' width = \"60%\">\n",
    "\n",
    "image source: geeksforgeeks.org"
   ]
  },
  {
   "cell_type": "code",
   "execution_count": 30,
   "metadata": {},
   "outputs": [],
   "source": [
    "class Node:\n",
    "    def __init__(self, value=None):\n",
    "        self.value = value\n",
    "        self.next = None\n",
    "    \n",
    "    def __str__(self):\n",
    "        return str(self.value)\n",
    "\n",
    "class LinkedList:\n",
    "    def __init__(self):\n",
    "        self.head = None\n",
    "        self.tail = None\n",
    "    \n",
    "    def __iter__(self):\n",
    "        curNode = self.head\n",
    "        while curNode:\n",
    "            yield curNode\n",
    "            curNode = curNode.next\n",
    "\n",
    "class Queue:\n",
    "    def __init__(self):\n",
    "        self.linkedList = LinkedList()\n",
    "    \n",
    "    def __str__(self):\n",
    "        values = [str(x) for x in self.linkedList]\n",
    "        return ' '.join(values)\n",
    "    \n",
    "    def enqueue(self, value):\n",
    "        newNode = Node(value)\n",
    "        if self.linkedList.head == None:\n",
    "            self.linkedList.head = newNode\n",
    "            self.linkedList.tail = newNode\n",
    "        else:\n",
    "            self.linkedList.tail.next = newNode\n",
    "            self.linkedList.tail = newNode\n",
    "    \n",
    "    def isEmpty(self):\n",
    "        if self.linkedList.head == None:\n",
    "            return True\n",
    "        else:\n",
    "            return False\n",
    "    \n",
    "    def dequeue(self):\n",
    "        if self.isEmpty():\n",
    "            return \"Queue is empty\"\n",
    "        else:\n",
    "            tempNode = self.linkedList.head\n",
    "            if self.linkedList.head == self.linkedList.tail:\n",
    "                self.linkedList.head = None\n",
    "                self.linkedList.tail = None\n",
    "            else:\n",
    "                self.linkedList.head = self.linkedList.head.next\n",
    "            return tempNode\n",
    "    \n",
    "    def peek(self):\n",
    "        if self.isEmpty():\n",
    "            return \"Queue is empty\"\n",
    "        else:\n",
    "            return self.linkedList.head\n",
    "    \n",
    "    def delete(self):\n",
    "        self.linkedList.head = None\n",
    "        self.linkedList.tail = None"
   ]
  },
  {
   "cell_type": "code",
   "execution_count": 22,
   "metadata": {},
   "outputs": [],
   "source": [
    "class TreeNode:\n",
    "    def __init__(self, data):\n",
    "        self.data = data\n",
    "        self.leftChild = None\n",
    "        self.rightChild = None\n",
    "\n",
    "newBT = TreeNode(\"Drinks\")\n",
    "\n",
    "leftChild = TreeNode(\"Hot\")\n",
    "tea = TreeNode(\"Tea\")\n",
    "coffee = TreeNode(\"Coffee\")\n",
    "leftChild.leftChild = tea\n",
    "green = TreeNode(\"Green\")\n",
    "black = TreeNode(\"Black\")\n",
    "leftChild.leftChild.leftChild = green\n",
    "leftChild.leftChild.rightChild = black\n",
    "leftChild.rightChild = coffee\n",
    "americano = TreeNode('Americano')\n",
    "latte = TreeNode('Latte')\n",
    "leftChild.rightChild.leftChild = americano\n",
    "leftChild.rightChild.rightChild = latte\n",
    "\n",
    "rightChild = TreeNode(\"Cold\")\n",
    "alchoholic = TreeNode('Alchoholic')\n",
    "rightChild.leftChild = alchoholic\n",
    "non_soda = TreeNode('Non-soda')\n",
    "rightChild.leftChild.leftChild = non_soda\n",
    "soda = TreeNode('Soda')\n",
    "rightChild.leftChild.rightChild = soda\n",
    "non_alcoholic = TreeNode('Non-alchoholic')\n",
    "rightChild.rightChild = non_alcoholic\n",
    "wine = TreeNode('Wine')\n",
    "rightChild.rightChild.leftChild = wine\n",
    "beer = TreeNode('Beer')\n",
    "rightChild.rightChild.rightChild = beer\n",
    "newBT.leftChild = leftChild\n",
    "newBT.rightChild = rightChild"
   ]
  },
  {
   "cell_type": "code",
   "execution_count": 24,
   "metadata": {},
   "outputs": [
    {
     "data": {
      "text/plain": [
       "'Beer'"
      ]
     },
     "execution_count": 24,
     "metadata": {},
     "output_type": "execute_result"
    }
   ],
   "source": [
    "newBT.rightChild.rightChild.rightChild.data"
   ]
  },
  {
   "cell_type": "code",
   "execution_count": 26,
   "metadata": {},
   "outputs": [
    {
     "name": "stdout",
     "output_type": "stream",
     "text": [
      "Drinks\n",
      "Hot\n",
      "Tea\n",
      "Green\n",
      "Black\n",
      "Coffee\n",
      "Americano\n",
      "Latte\n",
      "Cold\n",
      "Alchoholic\n",
      "Non-soda\n",
      "Soda\n",
      "Non-alchoholic\n",
      "Wine\n",
      "Beer\n"
     ]
    }
   ],
   "source": [
    "def preOrderTraversal(rootNode):\n",
    "    if not rootNode:\n",
    "        return\n",
    "    print(rootNode.data)\n",
    "    preOrderTraversal(rootNode.leftChild)\n",
    "    preOrderTraversal(rootNode.rightChild)\n",
    "    \n",
    "preOrderTraversal(newBT)"
   ]
  },
  {
   "cell_type": "code",
   "execution_count": 28,
   "metadata": {},
   "outputs": [
    {
     "name": "stdout",
     "output_type": "stream",
     "text": [
      "Green\n",
      "Tea\n",
      "Black\n",
      "Hot\n",
      "Americano\n",
      "Coffee\n",
      "Latte\n",
      "Drinks\n",
      "Non-soda\n",
      "Alchoholic\n",
      "Soda\n",
      "Cold\n",
      "Wine\n",
      "Non-alchoholic\n",
      "Beer\n"
     ]
    }
   ],
   "source": [
    "def inOrderTraversal(rootNode):\n",
    "    if not rootNode:\n",
    "        return\n",
    "    inOrderTraversal(rootNode.leftChild)\n",
    "    print(rootNode.data)\n",
    "    inOrderTraversal(rootNode.rightChild)\n",
    "inOrderTraversal(newBT)"
   ]
  },
  {
   "cell_type": "code",
   "execution_count": 29,
   "metadata": {
    "scrolled": true
   },
   "outputs": [
    {
     "name": "stdout",
     "output_type": "stream",
     "text": [
      "Green\n",
      "Black\n",
      "Tea\n",
      "Americano\n",
      "Latte\n",
      "Coffee\n",
      "Hot\n",
      "Non-soda\n",
      "Soda\n",
      "Alchoholic\n",
      "Wine\n",
      "Beer\n",
      "Non-alchoholic\n",
      "Cold\n",
      "Drinks\n"
     ]
    }
   ],
   "source": [
    "def postOrderTraversal(rootNode):\n",
    "    if not rootNode:\n",
    "        return\n",
    "    postOrderTraversal(rootNode.leftChild)\n",
    "    postOrderTraversal(rootNode.rightChild)\n",
    "    print(rootNode.data)\n",
    "postOrderTraversal(newBT)"
   ]
  },
  {
   "cell_type": "code",
   "execution_count": 33,
   "metadata": {},
   "outputs": [
    {
     "data": {
      "text/plain": [
       "'Success'"
      ]
     },
     "execution_count": 33,
     "metadata": {},
     "output_type": "execute_result"
    }
   ],
   "source": [
    "def searchBT(rootNode, nodeValue):\n",
    "    if not rootNode:\n",
    "        return \"The Binary does not exist\"\n",
    "    else:\n",
    "        customQueue = Queue()\n",
    "        customQueue.enqueue(rootNode)\n",
    "        while not(customQueue.isEmpty()):\n",
    "            root = customQueue.dequeue()\n",
    "            if root.value.data == nodeValue:\n",
    "                return \"Success\"\n",
    "            if (root.value.leftChild is not None):\n",
    "                customQueue.enqueue(root.value.leftChild)\n",
    "            \n",
    "            if (root.value.rightChild is not None):\n",
    "                customQueue.enqueue(root.value.rightChild)\n",
    "        return \"Not found\"\n",
    "\n",
    "searchBT(newBT, 'Coffee')"
   ]
  },
  {
   "cell_type": "code",
   "execution_count": 34,
   "metadata": {},
   "outputs": [],
   "source": [
    "def insertNodeBT(rootNode, newNode):\n",
    "    if not rootNode:\n",
    "        rootNode = newNode\n",
    "    else:\n",
    "        customQueue = queue.Queue()\n",
    "        customQueue.enqueue(rootNode)\n",
    "        while not(customQueue.isEmpty()):\n",
    "            root = customQueue.dequeue()\n",
    "            if root.value.leftChild is not None:\n",
    "                customQueue.enqueue(root.value.leftChild)\n",
    "            else:\n",
    "                root.value.leftChild = newNode\n",
    "                return \"Successfully Inserted\"\n",
    "            if root.value.rightChild is not None:\n",
    "                customQueue.enqueue(root.value.rightChild)\n",
    "            else:\n",
    "                root.value.rightChild = newNode\n",
    "                return \"Successfully Inserted\"\n",
    "\n",
    "def getDeepestNode(rootNode):\n",
    "    if not rootNode:\n",
    "        return\n",
    "    else:\n",
    "        customQueue = queue.Queue()\n",
    "        customQueue.enqueue(rootNode)\n",
    "        while not(customQueue.isEmpty()):\n",
    "            root = customQueue.dequeue()\n",
    "            if (root.value.leftChild is not None):\n",
    "                customQueue.enqueue(root.value.leftChild)\n",
    "            \n",
    "            if (root.value.rightChild is not None):\n",
    "                customQueue.enqueue(root.value.rightChild)\n",
    "        deepestNode = root.value\n",
    "        return deepestNode\n",
    "\n",
    "def deleteDeepestNode(rootNode, dNode):\n",
    "    if not rootNode:\n",
    "        return\n",
    "    else:\n",
    "        customQueue = queue.Queue()\n",
    "        customQueue.enqueue(rootNode)\n",
    "        while not(customQueue.isEmpty()):\n",
    "            root = customQueue.dequeue()\n",
    "            if root.value is dNode:\n",
    "                root.value = None\n",
    "                return\n",
    "            if root.value.rightChild:\n",
    "                if root.value.rightChild is dNode:\n",
    "                    root.value.rightChild = None\n",
    "                    return\n",
    "                else:\n",
    "                    customQueue.enqueue(root.value.rightChild)\n",
    "            if root.value.leftChild:\n",
    "                if root.value.leftChild is dNode:\n",
    "                    root.value.leftChild = None\n",
    "                    return\n",
    "                else:\n",
    "                    customQueue.enqueue(root.value.leftChild)\n",
    "\n",
    "def deleteNodeBT(rootNode, node):\n",
    "    if not rootNode:\n",
    "        return \"The BT does not exist\"\n",
    "    else:\n",
    "        customQueue = queue.Queue()\n",
    "        customQueue.enqueue(rootNode)\n",
    "        while not(customQueue.isEmpty()):\n",
    "            root = customQueue.dequeue()\n",
    "            if root.value.data == node:\n",
    "                dNode = getDeepestNode(rootNode)\n",
    "                root.value.data = dNode.data\n",
    "                deleteDeepestNode(rootNode, dNode)\n",
    "                return \"The node has been successfully deleted\"\n",
    "            if (root.value.leftChild is not None):\n",
    "                customQueue.enqueue(root.value.leftChild)\n",
    "            \n",
    "            if (root.value.rightChild is not None):\n",
    "                customQueue.enqueue(root.value.rightChild)\n",
    "        return \"Failed to delete\"\n",
    "\n",
    "def deleteBT(rootNode):\n",
    "    rootNode.data = None\n",
    "    rootNode.leftChild = None\n",
    "    rootNode.rightChild = None\n",
    "    return \"The BT has been successfully deleted\" "
   ]
  },
  {
   "cell_type": "markdown",
   "metadata": {},
   "source": [
    "### Using Python List"
   ]
  },
  {
   "cell_type": "code",
   "execution_count": 40,
   "metadata": {},
   "outputs": [
    {
     "name": "stdout",
     "output_type": "stream",
     "text": [
      "The BT has been successfully deleted\n"
     ]
    }
   ],
   "source": [
    "class BinaryTree:\n",
    "    def __init__(self, size):\n",
    "        self.customList = size * [None]\n",
    "        self.lastUsedIndex = 0\n",
    "        self.maxSize = size\n",
    "    \n",
    "    def insertNode(self, value):\n",
    "        if self.lastUsedIndex + 1 == self.maxSize:\n",
    "            return \"The Binary Tree is full\"\n",
    "        self.customList[self.lastUsedIndex+1] = value\n",
    "        self.lastUsedIndex += 1\n",
    "        return \"The value has been successfully inserted\"\n",
    "\n",
    "    def searchNode(self, nodeValue):\n",
    "        for i in range(len(self.customList)):\n",
    "            if self.customList[i] == nodeValue:\n",
    "                return \"Success\"\n",
    "        return \"Not found\"\n",
    "    \n",
    "    def preOrderTraversal(self, index):\n",
    "        if index > self.lastUsedIndex:\n",
    "            return\n",
    "        print(self.customList[index])\n",
    "        self.preOrderTraversal(index*2)\n",
    "        self.preOrderTraversal(index*2 + 1)\n",
    "\n",
    "    def inOrderTraversal(self, index):\n",
    "        if index > self.lastUsedIndex:\n",
    "            return\n",
    "        self.inOrderTraversal(index*2)\n",
    "        print(self.customList[index])\n",
    "        self.inOrderTraversal(index*2+1)\n",
    "    \n",
    "    def postOrderTraversal(self, index):\n",
    "        if index > self.lastUsedIndex:\n",
    "            return\n",
    "        self.postOrderTraversal(index*2)\n",
    "        self.postOrderTraversal(index*2+1)\n",
    "        print(self.customList[index])\n",
    "    \n",
    "    def levelOrderTraversal(self, index):\n",
    "        for i in range(index, self.lastUsedIndex+1):\n",
    "            print(self.customList[i])\n",
    "    \n",
    "    def deleteNode(self, value):\n",
    "        if self.lastUsedIndex == 0:\n",
    "            return \"There is not any node to delete\"\n",
    "        for i in range(1, self.lastUsedIndex+1):\n",
    "            if self.customList[i] == value:\n",
    "                self.customList[i] = self.customList[self.lastUsedIndex]\n",
    "                self.customList[self.lastUsedIndex] = None\n",
    "                self.lastUsedIndex -= 1\n",
    "                return \"The node has been successfully deleted\"\n",
    "    \n",
    "    def deleteBT(self):\n",
    "        self.customList = None\n",
    "        return \"The BT has been successfully deleted\"\n",
    "\n",
    "    \n",
    "newBT = BinaryTree(8)\n",
    "newBT.insertNode(\"Drinks\")\n",
    "newBT.insertNode(\"Hot\")\n",
    "newBT.insertNode(\"Cold\")\n",
    "newBT.insertNode(\"Tea\")\n",
    "newBT.insertNode(\"Coffee\")\n",
    "\n",
    "print(newBT.deleteBT())\n",
    "\n",
    "# newBT.levelOrderTraversal(1)"
   ]
  },
  {
   "cell_type": "code",
   "execution_count": 47,
   "metadata": {},
   "outputs": [],
   "source": [
    "class BinaryTree:\n",
    "    def __init__(self, size):\n",
    "        self.customList = size * [None]\n",
    "        self.lastUsedIndex = 0\n",
    "        self.maxSize = size\n",
    "    def insertNode(self, value):\n",
    "        if self.lastUsedIndex + 1 == self.maxSize:\n",
    "            return \"The Binary Tree is full\"\n",
    "        self.customList[self.lastUsedIndex+1] = value\n",
    "        self.lastUsedIndex += 1\n",
    "        return \"The value has been successfully inserted\""
   ]
  },
  {
   "cell_type": "code",
   "execution_count": 50,
   "metadata": {},
   "outputs": [
    {
     "name": "stdout",
     "output_type": "stream",
     "text": [
      "[None, 'Drinks', None, None, None, None, None, None]\n",
      "[None, 'Drinks', 'Hot', None, None, None, None, None]\n",
      "[None, 'Drinks', 'Hot', 'Cold', None, None, None, None]\n",
      "[None, 'Drinks', 'Hot', 'Cold', 'Tea', None, None, None]\n",
      "[None, 'Drinks', 'Hot', 'Cold', 'Tea', 'Coffee', None, None]\n"
     ]
    }
   ],
   "source": [
    "newBT = BinaryTree(8)\n",
    "newBT.insertNode(\"Drinks\")\n",
    "print(newBT.customList)\n",
    "newBT.insertNode(\"Hot\")\n",
    "print(newBT.customList)\n",
    "newBT.insertNode(\"Cold\")\n",
    "print(newBT.customList)\n",
    "newBT.insertNode(\"Tea\")\n",
    "print(newBT.customList)\n",
    "newBT.insertNode(\"Coffee\")\n",
    "print(newBT.customList)"
   ]
  },
  {
   "cell_type": "code",
   "execution_count": 49,
   "metadata": {},
   "outputs": [
    {
     "data": {
      "text/plain": [
       "[None, 'Drinks', 'Hot', 'Cold', 'Tea', 'Coffee', None, None]"
      ]
     },
     "execution_count": 49,
     "metadata": {},
     "output_type": "execute_result"
    }
   ],
   "source": []
  }
 ],
 "metadata": {
  "kernelspec": {
   "display_name": "Python 3",
   "language": "python",
   "name": "python3"
  },
  "language_info": {
   "codemirror_mode": {
    "name": "ipython",
    "version": 3
   },
   "file_extension": ".py",
   "mimetype": "text/x-python",
   "name": "python",
   "nbconvert_exporter": "python",
   "pygments_lexer": "ipython3",
   "version": "3.8.5"
  }
 },
 "nbformat": 4,
 "nbformat_minor": 4
}
