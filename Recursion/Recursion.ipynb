{
 "cells": [
  {
   "cell_type": "markdown",
   "metadata": {},
   "source": [
    "## Recursion\n",
    "<img src = \"https://miro.medium.com/max/1460/1*iFZbvIy1jv1fvcUqFOQInA.jpeg\">"
   ]
  },
  {
   "cell_type": "markdown",
   "metadata": {},
   "source": [
    "* Recursion involves finding the solution recursively.\n",
    "* There are three main steps involved in rucursion.\n",
    "    * Rercursive case - The flow\n",
    "    * Base case - the stopping criteria\n",
    "    * Unintentional case - the constraint"
   ]
  },
  {
   "cell_type": "markdown",
   "metadata": {},
   "source": [
    "<b>Q. Greatest common divisor of two numbers using recursion."
   ]
  },
  {
   "cell_type": "markdown",
   "metadata": {},
   "source": [
    "<img src = \"https://www.onlinemathlearning.com/image-files/xeuclidean-algorithm.png.pagespeed.ic.pjn4SgTgQN.webp\" width=\"50%\" height=\"60%\">"
   ]
  },
  {
   "cell_type": "code",
   "execution_count": 28,
   "metadata": {},
   "outputs": [
    {
     "data": {
      "text/plain": [
       "15"
      ]
     },
     "execution_count": 28,
     "metadata": {},
     "output_type": "execute_result"
    }
   ],
   "source": [
    "def gcd(num1, num2):\n",
    "    assert int(num1) == num1 and int(num2) == num2, 'integer required'\n",
    "    if num1 < 0:\n",
    "        num1 = -1*num1\n",
    "    if num2 < 0:\n",
    "        num2 = -1*num2\n",
    "    if num2 == 0:\n",
    "        return(num1)\n",
    "    else:\n",
    "        return gcd(num2, num1%num2)\n",
    "    \n",
    "gcd(-45, 15)"
   ]
  },
  {
   "cell_type": "markdown",
   "metadata": {},
   "source": [
    "<b>Q. Decimal to binary conversion"
   ]
  },
  {
   "cell_type": "markdown",
   "metadata": {},
   "source": [
    "<img src = \"https://images.saymedia-content.com/.image/c_limit%2Ccs_srgb%2Cq_auto:good%2Cw_700/MTc0NjQ3MTg4MjM5MDk5MjU4/how-to-convert-decimal-to-binary-and-binary-to-decimal.webp\" width=\"50%\" height=\"60%\">"
   ]
  },
  {
   "cell_type": "code",
   "execution_count": 80,
   "metadata": {},
   "outputs": [
    {
     "name": "stdout",
     "output_type": "stream",
     "text": [
      "13\n",
      "6\n",
      "3\n",
      "1\n",
      "0\n"
     ]
    },
    {
     "data": {
      "text/plain": [
       "[1, 1, 0, 1]"
      ]
     },
     "execution_count": 80,
     "metadata": {},
     "output_type": "execute_result"
    }
   ],
   "source": [
    "binary = []\n",
    "\n",
    "def dcb(num):\n",
    "    assert int(num) == num, 'The parameter should be integer'\n",
    "    print(num)\n",
    "    if num<0:\n",
    "        num = -1*num\n",
    "    \n",
    "    if int(num+1/2)==0:\n",
    "        return num\n",
    "    else:\n",
    "        binary.append(num%2)\n",
    "        return dcb(int(num/2))\n",
    "\n",
    "dcb(13)\n",
    "binary.reverse()\n",
    "binary"
   ]
  },
  {
   "cell_type": "code",
   "execution_count": 6,
   "metadata": {},
   "outputs": [
    {
     "name": "stdout",
     "output_type": "stream",
     "text": [
      "done1\n"
     ]
    }
   ],
   "source": [
    "print('done1')"
   ]
  },
  {
   "cell_type": "code",
   "execution_count": null,
   "metadata": {},
   "outputs": [],
   "source": []
  }
 ],
 "metadata": {
  "kernelspec": {
   "display_name": "Python 3",
   "language": "python",
   "name": "python3"
  },
  "language_info": {
   "codemirror_mode": {
    "name": "ipython",
    "version": 3
   },
   "file_extension": ".py",
   "mimetype": "text/x-python",
   "name": "python",
   "nbconvert_exporter": "python",
   "pygments_lexer": "ipython3",
   "version": "3.8.5"
  }
 },
 "nbformat": 4,
 "nbformat_minor": 4
}
