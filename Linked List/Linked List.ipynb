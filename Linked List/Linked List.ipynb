{
 "cells": [
  {
   "cell_type": "markdown",
   "metadata": {},
   "source": [
    "### Insert at the begining of linked list"
   ]
  },
  {
   "cell_type": "markdown",
   "metadata": {},
   "source": [
    "https://www.geeksforgeeks.org/linked-list-set-1-introduction/"
   ]
  },
  {
   "cell_type": "code",
   "execution_count": 51,
   "metadata": {},
   "outputs": [],
   "source": [
    "# Node class\n",
    "class Node:\n",
    "    # function to initialize Node object\n",
    "    def __init__(self, data = None, next_location = None):\n",
    "        self.data = data\n",
    "        self.next_location = next_location # set next location as null\n",
    "\n",
    "class LinkedList:\n",
    "    def __init__(self):\n",
    "        self.head = None\n",
    "        \n",
    "    def insert_at_begining(self, data):\n",
    "        node = Node(data, self.head)\n",
    "        self.head = node\n",
    "        \n",
    "    def insertAfter(self, prev_node, new_data):\n",
    "        # 1. check if the given prev_node exists\n",
    "        if prev_node is None:\n",
    "            print(\"prev_node must exist\")\n",
    "            return\n",
    "\n",
    "        # 2. Create new node &\n",
    "        # 3. Put in the data\n",
    "        # 4. Create next of new Node as next of prev_node\n",
    "        new_node = Node(data = new_data, next_location= prev_node.next_location)\n",
    "\n",
    "        # 5. make next of prev_node as new_node\n",
    "        prev_node.next_location = new_node\n",
    "    \n",
    "    def insertAtEnd(self, new_data):\n",
    " \n",
    "        # 1. Create a new node\n",
    "        # 2. Put in the data\n",
    "        # 3. Set next as None\n",
    "        new_node = Node(new_data)\n",
    "\n",
    "        # 4. If the Linked List is empty, then make the new node as head\n",
    "        if self.head is None:\n",
    "            self.head = new_node\n",
    "            return\n",
    "\n",
    "        # 5. Else traverse till the last node\n",
    "        last = self.head\n",
    "        while (last.next_location):\n",
    "            last = last.next_location\n",
    "\n",
    "        # 6. Change the next of last node\n",
    "        last.next_location =  new_node\n",
    "\n",
    "    \n",
    "    def print_ll(self):\n",
    "        if self.head is None:\n",
    "            return print('empty linked list')\n",
    "        \n",
    "        itr = self.head\n",
    "        llstr = ''\n",
    "        while itr:\n",
    "            llstr+= str(itr.data) + '-->'\n",
    "            itr = itr.next_location\n",
    "        print(llstr)"
   ]
  },
  {
   "cell_type": "code",
   "execution_count": 52,
   "metadata": {},
   "outputs": [
    {
     "name": "stdout",
     "output_type": "stream",
     "text": [
      "1-->2-->3-->4-->\n",
      "5-->1-->2-->3-->4-->\n",
      "5-->1-->2-->3-->7-->4-->\n",
      "5-->1-->2-->3-->7-->4-->10-->\n"
     ]
    }
   ],
   "source": [
    "if __name__ == '__main__':\n",
    "    # Create linked list\n",
    "    ll = LinkedList()\n",
    "    # Create Head\n",
    "    ll.head = Node(1)\n",
    "    # Create nodes having null next locations\n",
    "    second = Node(2)\n",
    "    third = Node(3)\n",
    "    fourth = Node(4)\n",
    "    # link the newly created nodes to each other by defining next locations\n",
    "    ll.head.next_location = second\n",
    "    second.next_location = third\n",
    "    third.next_location = fourth\n",
    "    \n",
    "    # print initial setup\n",
    "    ll.print_ll()\n",
    "    \n",
    "    # insert at the begining\n",
    "    ll.insert_at_begining(5)\n",
    "    ll.print_ll()\n",
    "    \n",
    "    # insert after\n",
    "    ll.insertAfter(prev_node = third, new_data = 7)\n",
    "    ll.print_ll()\n",
    "    \n",
    "    # append\n",
    "    ll.insertAtEnd(10)\n",
    "    ll.print_ll()"
   ]
  },
  {
   "cell_type": "markdown",
   "metadata": {},
   "source": [
    "### Leetcode Q. 1290"
   ]
  },
  {
   "cell_type": "markdown",
   "metadata": {},
   "source": [
    "Input: head = [1,0,1]\n",
    "\n",
    "Output: 5\n",
    "\n",
    "Explanation: (101) in base 2 = (5) in base 10"
   ]
  },
  {
   "cell_type": "code",
   "execution_count": 62,
   "metadata": {},
   "outputs": [],
   "source": [
    "class Solution:\n",
    "    def getDecimalValue(self, head: ListNode) -> int:\n",
    "        num = head.val\n",
    "        while head.next:\n",
    "            num = num * 2 + head.next.val\n",
    "            head = head.next\n",
    "        print(num)\n",
    "        return num"
   ]
  },
  {
   "cell_type": "code",
   "execution_count": 68,
   "metadata": {},
   "outputs": [
    {
     "data": {
      "text/plain": [
       "(1, 3)"
      ]
     },
     "execution_count": 68,
     "metadata": {},
     "output_type": "execute_result"
    }
   ],
   "source": [
    "divmod(13,10)"
   ]
  },
  {
   "cell_type": "code",
   "execution_count": null,
   "metadata": {},
   "outputs": [],
   "source": []
  },
  {
   "cell_type": "code",
   "execution_count": 1,
   "metadata": {},
   "outputs": [],
   "source": [
    "import pandas as pd\n",
    "import numpy as np"
   ]
  },
  {
   "cell_type": "code",
   "execution_count": 2,
   "metadata": {},
   "outputs": [],
   "source": [
    "df = pd.read_excel(r\"C:\\Users\\Sandi\\Stats MS\\RailTech\\Documents\\inputFileToCWRF.xlsx\")"
   ]
  },
  {
   "cell_type": "code",
   "execution_count": 3,
   "metadata": {},
   "outputs": [
    {
     "data": {
      "text/html": [
       "<div>\n",
       "<style scoped>\n",
       "    .dataframe tbody tr th:only-of-type {\n",
       "        vertical-align: middle;\n",
       "    }\n",
       "\n",
       "    .dataframe tbody tr th {\n",
       "        vertical-align: top;\n",
       "    }\n",
       "\n",
       "    .dataframe thead th {\n",
       "        text-align: right;\n",
       "    }\n",
       "</style>\n",
       "<table border=\"1\" class=\"dataframe\">\n",
       "  <thead>\n",
       "    <tr style=\"text-align: right;\">\n",
       "      <th></th>\n",
       "      <th>Station</th>\n",
       "      <th>Latitude</th>\n",
       "      <th>Longitude</th>\n",
       "      <th>Crosstie Type</th>\n",
       "      <th>Curvature</th>\n",
       "      <th>Unnamed: 5</th>\n",
       "    </tr>\n",
       "  </thead>\n",
       "  <tbody>\n",
       "    <tr>\n",
       "      <th>0</th>\n",
       "      <td>4.716981</td>\n",
       "      <td>38.451850</td>\n",
       "      <td>-104.351313</td>\n",
       "      <td>Wooden</td>\n",
       "      <td>-0.73</td>\n",
       "      <td>0.73</td>\n",
       "    </tr>\n",
       "    <tr>\n",
       "      <th>1</th>\n",
       "      <td>5.000000</td>\n",
       "      <td>38.451848</td>\n",
       "      <td>-104.351316</td>\n",
       "      <td>Wooden</td>\n",
       "      <td>-0.73</td>\n",
       "      <td>0.73</td>\n",
       "    </tr>\n",
       "    <tr>\n",
       "      <th>2</th>\n",
       "      <td>6.603774</td>\n",
       "      <td>38.451847</td>\n",
       "      <td>-104.351320</td>\n",
       "      <td>Wooden</td>\n",
       "      <td>-0.72</td>\n",
       "      <td>0.72</td>\n",
       "    </tr>\n",
       "    <tr>\n",
       "      <th>3</th>\n",
       "      <td>7.000000</td>\n",
       "      <td>38.451845</td>\n",
       "      <td>-104.351322</td>\n",
       "      <td>Wooden</td>\n",
       "      <td>-0.72</td>\n",
       "      <td>0.72</td>\n",
       "    </tr>\n",
       "    <tr>\n",
       "      <th>4</th>\n",
       "      <td>9.000000</td>\n",
       "      <td>38.451845</td>\n",
       "      <td>-104.351322</td>\n",
       "      <td>Wooden</td>\n",
       "      <td>-0.72</td>\n",
       "      <td>0.72</td>\n",
       "    </tr>\n",
       "    <tr>\n",
       "      <th>...</th>\n",
       "      <td>...</td>\n",
       "      <td>...</td>\n",
       "      <td>...</td>\n",
       "      <td>...</td>\n",
       "      <td>...</td>\n",
       "      <td>...</td>\n",
       "    </tr>\n",
       "    <tr>\n",
       "      <th>6332</th>\n",
       "      <td>14390.000000</td>\n",
       "      <td>38.451864</td>\n",
       "      <td>-104.351282</td>\n",
       "      <td>Concrete</td>\n",
       "      <td>-0.75</td>\n",
       "      <td>0.75</td>\n",
       "    </tr>\n",
       "    <tr>\n",
       "      <th>6333</th>\n",
       "      <td>14391.255918</td>\n",
       "      <td>38.451866</td>\n",
       "      <td>-104.351281</td>\n",
       "      <td>Concrete</td>\n",
       "      <td>-0.75</td>\n",
       "      <td>0.75</td>\n",
       "    </tr>\n",
       "    <tr>\n",
       "      <th>6334</th>\n",
       "      <td>14392.000000</td>\n",
       "      <td>38.451861</td>\n",
       "      <td>-104.351289</td>\n",
       "      <td>Concrete</td>\n",
       "      <td>-0.75</td>\n",
       "      <td>0.75</td>\n",
       "    </tr>\n",
       "    <tr>\n",
       "      <th>6335</th>\n",
       "      <td>14393.153551</td>\n",
       "      <td>38.451863</td>\n",
       "      <td>-104.351287</td>\n",
       "      <td>Concrete</td>\n",
       "      <td>-0.75</td>\n",
       "      <td>0.75</td>\n",
       "    </tr>\n",
       "    <tr>\n",
       "      <th>6336</th>\n",
       "      <td>14394.000000</td>\n",
       "      <td>38.451858</td>\n",
       "      <td>-104.351296</td>\n",
       "      <td>Concrete</td>\n",
       "      <td>-0.75</td>\n",
       "      <td>0.75</td>\n",
       "    </tr>\n",
       "  </tbody>\n",
       "</table>\n",
       "<p>6337 rows × 6 columns</p>\n",
       "</div>"
      ],
      "text/plain": [
       "           Station   Latitude   Longitude Crosstie Type  Curvature  Unnamed: 5\n",
       "0         4.716981  38.451850 -104.351313        Wooden      -0.73        0.73\n",
       "1         5.000000  38.451848 -104.351316        Wooden      -0.73        0.73\n",
       "2         6.603774  38.451847 -104.351320        Wooden      -0.72        0.72\n",
       "3         7.000000  38.451845 -104.351322        Wooden      -0.72        0.72\n",
       "4         9.000000  38.451845 -104.351322        Wooden      -0.72        0.72\n",
       "...            ...        ...         ...           ...        ...         ...\n",
       "6332  14390.000000  38.451864 -104.351282      Concrete      -0.75        0.75\n",
       "6333  14391.255918  38.451866 -104.351281      Concrete      -0.75        0.75\n",
       "6334  14392.000000  38.451861 -104.351289      Concrete      -0.75        0.75\n",
       "6335  14393.153551  38.451863 -104.351287      Concrete      -0.75        0.75\n",
       "6336  14394.000000  38.451858 -104.351296      Concrete      -0.75        0.75\n",
       "\n",
       "[6337 rows x 6 columns]"
      ]
     },
     "execution_count": 3,
     "metadata": {},
     "output_type": "execute_result"
    }
   ],
   "source": [
    "df['Station']"
   ]
  }
 ],
 "metadata": {
  "kernelspec": {
   "display_name": "Python 3",
   "language": "python",
   "name": "python3"
  },
  "language_info": {
   "codemirror_mode": {
    "name": "ipython",
    "version": 3
   },
   "file_extension": ".py",
   "mimetype": "text/x-python",
   "name": "python",
   "nbconvert_exporter": "python",
   "pygments_lexer": "ipython3",
   "version": "3.8.5"
  }
 },
 "nbformat": 4,
 "nbformat_minor": 4
}
