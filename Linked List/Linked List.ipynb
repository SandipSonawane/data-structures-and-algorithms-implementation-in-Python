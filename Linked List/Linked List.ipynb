{
 "cells": [
  {
   "cell_type": "markdown",
   "metadata": {},
   "source": [
    "### Insert at the begining of linked list"
   ]
  },
  {
   "cell_type": "markdown",
   "metadata": {},
   "source": [
    "https://www.geeksforgeeks.org/linked-list-set-1-introduction/"
   ]
  },
  {
   "cell_type": "code",
   "execution_count": 51,
   "metadata": {},
   "outputs": [],
   "source": [
    "# Node class\n",
    "class Node:\n",
    "    # function to initialize Node object\n",
    "    def __init__(self, data = None, next_location = None):\n",
    "        self.data = data\n",
    "        self.next_location = next_location # set next location as null\n",
    "\n",
    "class LinkedList:\n",
    "    def __init__(self):\n",
    "        self.head = None\n",
    "        \n",
    "    def insert_at_begining(self, data):\n",
    "        node = Node(data, self.head)\n",
    "        self.head = node\n",
    "        \n",
    "    def insertAfter(self, prev_node, new_data):\n",
    "        # 1. check if the given prev_node exists\n",
    "        if prev_node is None:\n",
    "            print(\"prev_node must exist\")\n",
    "            return\n",
    "\n",
    "        # 2. Create new node &\n",
    "        # 3. Put in the data\n",
    "        # 4. Create next of new Node as next of prev_node\n",
    "        new_node = Node(data = new_data, next_location= prev_node.next_location)\n",
    "\n",
    "        # 5. make next of prev_node as new_node\n",
    "        prev_node.next_location = new_node\n",
    "    \n",
    "    def insertAtEnd(self, new_data):\n",
    " \n",
    "        # 1. Create a new node\n",
    "        # 2. Put in the data\n",
    "        # 3. Set next as None\n",
    "        new_node = Node(new_data)\n",
    "\n",
    "        # 4. If the Linked List is empty, then make the new node as head\n",
    "        if self.head is None:\n",
    "            self.head = new_node\n",
    "            return\n",
    "\n",
    "        # 5. Else traverse till the last node\n",
    "        last = self.head\n",
    "        while (last.next_location):\n",
    "            last = last.next_location\n",
    "\n",
    "        # 6. Change the next of last node\n",
    "        last.next_location =  new_node\n",
    "\n",
    "    \n",
    "    def print_ll(self):\n",
    "        if self.head is None:\n",
    "            return print('empty linked list')\n",
    "        \n",
    "        itr = self.head\n",
    "        llstr = ''\n",
    "        while itr:\n",
    "            llstr+= str(itr.data) + '-->'\n",
    "            itr = itr.next_location\n",
    "        print(llstr)"
   ]
  },
  {
   "cell_type": "code",
   "execution_count": 52,
   "metadata": {},
   "outputs": [
    {
     "name": "stdout",
     "output_type": "stream",
     "text": [
      "1-->2-->3-->4-->\n",
      "5-->1-->2-->3-->4-->\n",
      "5-->1-->2-->3-->7-->4-->\n",
      "5-->1-->2-->3-->7-->4-->10-->\n"
     ]
    }
   ],
   "source": [
    "if __name__ == '__main__':\n",
    "    # Create linked list\n",
    "    ll = LinkedList()\n",
    "    # Create Head\n",
    "    ll.head = Node(1)\n",
    "    # Create nodes having null next locations\n",
    "    second = Node(2)\n",
    "    third = Node(3)\n",
    "    fourth = Node(4)\n",
    "    # link the newly created nodes to each other by defining next locations\n",
    "    ll.head.next_location = second\n",
    "    second.next_location = third\n",
    "    third.next_location = fourth\n",
    "    \n",
    "    # print initial setup\n",
    "    ll.print_ll()\n",
    "    \n",
    "    # insert at the begining\n",
    "    ll.insert_at_begining(5)\n",
    "    ll.print_ll()\n",
    "    \n",
    "    # insert after\n",
    "    ll.insertAfter(prev_node = third, new_data = 7)\n",
    "    ll.print_ll()\n",
    "    \n",
    "    # append\n",
    "    ll.insertAtEnd(10)\n",
    "    ll.print_ll()"
   ]
  },
  {
   "cell_type": "markdown",
   "metadata": {},
   "source": [
    "### Leetcode Q. 1290"
   ]
  },
  {
   "cell_type": "markdown",
   "metadata": {},
   "source": [
    "Input: head = [1,0,1]\n",
    "\n",
    "Output: 5\n",
    "\n",
    "Explanation: (101) in base 2 = (5) in base 10"
   ]
  },
  {
   "cell_type": "code",
   "execution_count": 62,
   "metadata": {},
   "outputs": [],
   "source": [
    "class Solution:\n",
    "    def getDecimalValue(self, head: ListNode) -> int:\n",
    "        num = head.val\n",
    "        while head.next:\n",
    "            num = num * 2 + head.next.val\n",
    "            head = head.next\n",
    "        print(num)\n",
    "        return num"
   ]
  },
  {
   "cell_type": "code",
   "execution_count": 68,
   "metadata": {},
   "outputs": [
    {
     "data": {
      "text/plain": [
       "(1, 3)"
      ]
     },
     "execution_count": 68,
     "metadata": {},
     "output_type": "execute_result"
    }
   ],
   "source": [
    "divmod(13,10)"
   ]
  },
  {
   "cell_type": "code",
   "execution_count": null,
   "metadata": {},
   "outputs": [],
   "source": []
  }
 ],
 "metadata": {
  "kernelspec": {
   "display_name": "Python 3",
   "language": "python",
   "name": "python3"
  },
  "language_info": {
   "codemirror_mode": {
    "name": "ipython",
    "version": 3
   },
   "file_extension": ".py",
   "mimetype": "text/x-python",
   "name": "python",
   "nbconvert_exporter": "python",
   "pygments_lexer": "ipython3",
   "version": "3.8.5"
  }
 },
 "nbformat": 4,
 "nbformat_minor": 4
}
