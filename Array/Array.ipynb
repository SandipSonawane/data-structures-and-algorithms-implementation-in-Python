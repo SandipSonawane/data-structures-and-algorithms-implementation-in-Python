{
 "cells": [
  {
   "cell_type": "markdown",
   "metadata": {},
   "source": [
    "<b>Q Find max. product of two integeres in an array."
   ]
  },
  {
   "cell_type": "markdown",
   "metadata": {},
   "source": [
    "Case 1: Positive integer array"
   ]
  },
  {
   "cell_type": "code",
   "execution_count": 21,
   "metadata": {},
   "outputs": [],
   "source": [
    "import numpy as np"
   ]
  },
  {
   "cell_type": "code",
   "execution_count": 23,
   "metadata": {},
   "outputs": [
    {
     "name": "stdout",
     "output_type": "stream",
     "text": [
      "58 57\n"
     ]
    },
    {
     "data": {
      "text/plain": [
       "3306"
      ]
     },
     "execution_count": 23,
     "metadata": {},
     "output_type": "execute_result"
    }
   ],
   "source": [
    "arr = np.array([1,20,30,44,5,56,57,5,1,5,6,15,12,35,58,19,21,32,12])\n",
    "\n",
    "def findMaxProductPosIntegers(arrPos):\n",
    "    num1 = 0\n",
    "    num2 = 0\n",
    "    for num in arrPos:\n",
    "        if num>num1:\n",
    "            num2 = num1\n",
    "            num1 = num\n",
    "        elif num > num2:\n",
    "            num2 = num\n",
    "    print(num1, num2)\n",
    "    return(num1*num2)\n",
    "findMaxProductPosIntegers(arr)"
   ]
  },
  {
   "cell_type": "markdown",
   "metadata": {},
   "source": [
    "Case 2: Positive or Negative integer array"
   ]
  },
  {
   "cell_type": "code",
   "execution_count": 36,
   "metadata": {},
   "outputs": [
    {
     "data": {
      "text/plain": [
       "5016"
      ]
     },
     "execution_count": 36,
     "metadata": {},
     "output_type": "execute_result"
    }
   ],
   "source": [
    "arr = np.array([1,-20,30,44,5,56,-57,5,1,5,6,15,12,-35,58,19,21,-88,12])\n",
    "\n",
    "def findMaxProdAnyIntegers(arr):\n",
    "    num1 = 0\n",
    "    num2 = 0\n",
    "    num3 = 0\n",
    "    num4 = 0\n",
    "    \n",
    "    for num in arr:\n",
    "        if num>num1:\n",
    "            num2 = num1\n",
    "            num1 = num\n",
    "        elif num>num2:\n",
    "            num2 = num\n",
    "        if num<num3:\n",
    "            num4 = num3\n",
    "            num3 = num\n",
    "        elif num<num4:\n",
    "            num4 = num\n",
    "    return(max(num1*num2, num3*num4))\n",
    "\n",
    "findMaxProdAnyIntegers(arr)"
   ]
  },
  {
   "cell_type": "code",
   "execution_count": null,
   "metadata": {},
   "outputs": [],
   "source": []
  },
  {
   "cell_type": "code",
   "execution_count": null,
   "metadata": {},
   "outputs": [],
   "source": []
  }
 ],
 "metadata": {
  "kernelspec": {
   "display_name": "Python 3",
   "language": "python",
   "name": "python3"
  },
  "language_info": {
   "codemirror_mode": {
    "name": "ipython",
    "version": 3
   },
   "file_extension": ".py",
   "mimetype": "text/x-python",
   "name": "python",
   "nbconvert_exporter": "python",
   "pygments_lexer": "ipython3",
   "version": "3.8.5"
  }
 },
 "nbformat": 4,
 "nbformat_minor": 4
}
