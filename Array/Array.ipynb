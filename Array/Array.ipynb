{
 "cells": [
  {
   "cell_type": "markdown",
   "metadata": {},
   "source": [
    "<b>Q Find max. product of two integeres in an array."
   ]
  },
  {
   "cell_type": "markdown",
   "metadata": {},
   "source": [
    "Case 1: Positive integer array"
   ]
  },
  {
   "cell_type": "code",
   "execution_count": 5,
   "metadata": {},
   "outputs": [],
   "source": [
    "import numpy as np\n",
    "from array import *"
   ]
  },
  {
   "cell_type": "code",
   "execution_count": 23,
   "metadata": {},
   "outputs": [
    {
     "name": "stdout",
     "output_type": "stream",
     "text": [
      "58 57\n"
     ]
    },
    {
     "data": {
      "text/plain": [
       "3306"
      ]
     },
     "execution_count": 23,
     "metadata": {},
     "output_type": "execute_result"
    }
   ],
   "source": [
    "arr = np.array([1,20,30,44,5,56,57,5,1,5,6,15,12,35,58,19,21,32,12])\n",
    "\n",
    "def findMaxProductPosIntegers(arrPos):\n",
    "    num1 = 0\n",
    "    num2 = 0\n",
    "    for num in arrPos:\n",
    "        if num>num1:\n",
    "            num2 = num1\n",
    "            num1 = num\n",
    "        elif num > num2:\n",
    "            num2 = num\n",
    "    print(num1, num2)\n",
    "    return(num1*num2)\n",
    "findMaxProductPosIntegers(arr)"
   ]
  },
  {
   "cell_type": "markdown",
   "metadata": {},
   "source": [
    "Case 2: Positive or Negative integer array"
   ]
  },
  {
   "cell_type": "code",
   "execution_count": 36,
   "metadata": {},
   "outputs": [
    {
     "data": {
      "text/plain": [
       "5016"
      ]
     },
     "execution_count": 36,
     "metadata": {},
     "output_type": "execute_result"
    }
   ],
   "source": [
    "arr = np.array([1,-20,30,44,5,56,-57,5,1,5,6,15,12,-35,58,19,21,-88,12])\n",
    "\n",
    "def findMaxProdAnyIntegers(arr):\n",
    "    num1 = 0\n",
    "    num2 = 0\n",
    "    num3 = 0\n",
    "    num4 = 0\n",
    "    \n",
    "    for num in arr:\n",
    "        if num>num1:\n",
    "            num2 = num1\n",
    "            num1 = num\n",
    "        elif num>num2:\n",
    "            num2 = num\n",
    "        if num<num3:\n",
    "            num4 = num3\n",
    "            num3 = num\n",
    "        elif num<num4:\n",
    "            num4 = num\n",
    "    return(max(num1*num2, num3*num4))\n",
    "\n",
    "findMaxProdAnyIntegers(arr)"
   ]
  },
  {
   "cell_type": "markdown",
   "metadata": {},
   "source": [
    "### Q1222. Queens That Can Attack the King"
   ]
  },
  {
   "cell_type": "markdown",
   "metadata": {},
   "source": [
    "<img src = 'https://assets.leetcode.com/uploads/2019/10/01/untitled-diagram.jpg'>"
   ]
  },
  {
   "cell_type": "markdown",
   "metadata": {},
   "source": [
    "On an 8x8 chessboard, there can be multiple Black Queens and one White King.\n",
    "\n",
    "Given an array of integer coordinates queens that represents the positions of the Black Queens, and a pair of coordinates king that represent the position of the White King, return the coordinates of all the queens (in any order) that can attack the King.\n",
    "\n",
    "* Input: queens = [[0,1],[1,0],[4,0],[0,4],[3,3],[2,4]], king = [0,0]\n",
    "\n",
    "* Output: [[0,1],[1,0],[3,3]]\n",
    "\n",
    "Explanation:\n",
    "\n",
    "* The queen at [0,1] can attack the king cause they're in the same row.\n",
    "\n",
    "* The queen at [1,0] can attack the king cause they're in the same column. \n",
    "\n",
    "* The queen at [3,3] can attack the king cause they're in the same diagnal. \n",
    "\n",
    "* The queen at [0,4] can't attack the king cause it's blocked by the queen at [0,1]. \n",
    "\n",
    "* The queen at [4,0] can't attack the king cause it's blocked by the queen at [1,0]. \n",
    "\n",
    "* The queen at [2,4] can't attack the king cause it's not in the same row/column/diagnal as the king.\n",
    "\n",
    "Constraints:\n",
    "* 1 <= queens.length <= 63\n",
    "* queens[i].length == 2\n",
    "* 0 <= queens[i][j] < 8\n",
    "* king.length == 2\n",
    "* 0 <= king[0], king[1] < 8\n",
    "* At most one piece is allowed in a cell."
   ]
  },
  {
   "cell_type": "code",
   "execution_count": 32,
   "metadata": {},
   "outputs": [
    {
     "name": "stdout",
     "output_type": "stream",
     "text": [
      "[[0, 1], [1, 0], [3, 3]]\n"
     ]
    }
   ],
   "source": [
    "queens = [[0,1],[1,0],[4,0],[0,4],[3,3],[2,4]]\n",
    "king = [0,0]\n",
    "result = []\n",
    "directions = [-1,0,1]\n",
    "\n",
    "for dx in directions:\n",
    "    for dy in directions:\n",
    "        if dx == 0 and dy ==0:\n",
    "            continue\n",
    "\n",
    "        x = int(king[0])\n",
    "        y = int(king[1])\n",
    "        while x + dx >= 0 and x + dx <8 and y+dy >=0 and y + dy <8:\n",
    "            x+= dx\n",
    "            y+= dy\n",
    "            if [x,y] in queens:\n",
    "                result.append([x,y])\n",
    "                break\n",
    "print(result)"
   ]
  },
  {
   "cell_type": "code",
   "execution_count": null,
   "metadata": {},
   "outputs": [],
   "source": []
  },
  {
   "cell_type": "code",
   "execution_count": null,
   "metadata": {},
   "outputs": [],
   "source": []
  }
 ],
 "metadata": {
  "kernelspec": {
   "display_name": "Python 3",
   "language": "python",
   "name": "python3"
  },
  "language_info": {
   "codemirror_mode": {
    "name": "ipython",
    "version": 3
   },
   "file_extension": ".py",
   "mimetype": "text/x-python",
   "name": "python",
   "nbconvert_exporter": "python",
   "pygments_lexer": "ipython3",
   "version": "3.8.5"
  }
 },
 "nbformat": 4,
 "nbformat_minor": 4
}
