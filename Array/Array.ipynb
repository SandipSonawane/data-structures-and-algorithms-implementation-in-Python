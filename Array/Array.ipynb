{
 "cells": [
  {
   "cell_type": "markdown",
   "metadata": {},
   "source": [
    "<b>Q Find max. product of two integeres in an array."
   ]
  },
  {
   "cell_type": "markdown",
   "metadata": {},
   "source": [
    "Case 1: Positive integer array"
   ]
  },
  {
   "cell_type": "code",
   "execution_count": 5,
   "metadata": {},
   "outputs": [],
   "source": [
    "import numpy as np\n",
    "from array import *"
   ]
  },
  {
   "cell_type": "code",
   "execution_count": 23,
   "metadata": {},
   "outputs": [
    {
     "name": "stdout",
     "output_type": "stream",
     "text": [
      "58 57\n"
     ]
    },
    {
     "data": {
      "text/plain": [
       "3306"
      ]
     },
     "execution_count": 23,
     "metadata": {},
     "output_type": "execute_result"
    }
   ],
   "source": [
    "arr = np.array([1,20,30,44,5,56,57,5,1,5,6,15,12,35,58,19,21,32,12])\n",
    "\n",
    "def findMaxProductPosIntegers(arrPos):\n",
    "    num1 = 0\n",
    "    num2 = 0\n",
    "    for num in arrPos:\n",
    "        if num>num1:\n",
    "            num2 = num1\n",
    "            num1 = num\n",
    "        elif num > num2:\n",
    "            num2 = num\n",
    "    print(num1, num2)\n",
    "    return(num1*num2)\n",
    "findMaxProductPosIntegers(arr)"
   ]
  },
  {
   "cell_type": "markdown",
   "metadata": {},
   "source": [
    "Case 2: Positive or Negative integer array"
   ]
  },
  {
   "cell_type": "code",
   "execution_count": 36,
   "metadata": {},
   "outputs": [
    {
     "data": {
      "text/plain": [
       "5016"
      ]
     },
     "execution_count": 36,
     "metadata": {},
     "output_type": "execute_result"
    }
   ],
   "source": [
    "arr = np.array([1,-20,30,44,5,56,-57,5,1,5,6,15,12,-35,58,19,21,-88,12])\n",
    "\n",
    "def findMaxProdAnyIntegers(arr):\n",
    "    num1 = 0\n",
    "    num2 = 0\n",
    "    num3 = 0\n",
    "    num4 = 0\n",
    "    \n",
    "    for num in arr:\n",
    "        if num>num1:\n",
    "            num2 = num1\n",
    "            num1 = num\n",
    "        elif num>num2:\n",
    "            num2 = num\n",
    "        if num<num3:\n",
    "            num4 = num3\n",
    "            num3 = num\n",
    "        elif num<num4:\n",
    "            num4 = num\n",
    "    return(max(num1*num2, num3*num4))\n",
    "\n",
    "findMaxProdAnyIntegers(arr)"
   ]
  },
  {
   "cell_type": "markdown",
   "metadata": {},
   "source": [
    "### Q1222. Queens That Can Attack the King"
   ]
  },
  {
   "cell_type": "markdown",
   "metadata": {},
   "source": [
    "<img src = 'https://assets.leetcode.com/uploads/2019/10/01/untitled-diagram.jpg'>"
   ]
  },
  {
   "cell_type": "markdown",
   "metadata": {},
   "source": [
    "On an 8x8 chessboard, there can be multiple Black Queens and one White King.\n",
    "\n",
    "Given an array of integer coordinates queens that represents the positions of the Black Queens, and a pair of coordinates king that represent the position of the White King, return the coordinates of all the queens (in any order) that can attack the King.\n",
    "\n",
    "* Input: queens = [[0,1],[1,0],[4,0],[0,4],[3,3],[2,4]], king = [0,0]\n",
    "\n",
    "* Output: [[0,1],[1,0],[3,3]]\n",
    "\n",
    "Explanation:\n",
    "\n",
    "* The queen at [0,1] can attack the king cause they're in the same row.\n",
    "\n",
    "* The queen at [1,0] can attack the king cause they're in the same column. \n",
    "\n",
    "* The queen at [3,3] can attack the king cause they're in the same diagnal. \n",
    "\n",
    "* The queen at [0,4] can't attack the king cause it's blocked by the queen at [0,1]. \n",
    "\n",
    "* The queen at [4,0] can't attack the king cause it's blocked by the queen at [1,0]. \n",
    "\n",
    "* The queen at [2,4] can't attack the king cause it's not in the same row/column/diagnal as the king.\n",
    "\n",
    "Constraints:\n",
    "* 1 <= queens.length <= 63\n",
    "* queens[i].length == 2\n",
    "* 0 <= queens[i][j] < 8\n",
    "* king.length == 2\n",
    "* 0 <= king[0], king[1] < 8\n",
    "* At most one piece is allowed in a cell."
   ]
  },
  {
   "cell_type": "code",
   "execution_count": 32,
   "metadata": {},
   "outputs": [
    {
     "name": "stdout",
     "output_type": "stream",
     "text": [
      "[[0, 1], [1, 0], [3, 3]]\n"
     ]
    }
   ],
   "source": [
    "queens = [[0,1],[1,0],[4,0],[0,4],[3,3],[2,4]]\n",
    "king = [0,0]\n",
    "result = []\n",
    "directions = [-1,0,1]\n",
    "\n",
    "for dx in directions:\n",
    "    for dy in directions:\n",
    "        if dx == 0 and dy ==0:\n",
    "            continue\n",
    "\n",
    "        x = int(king[0])\n",
    "        y = int(king[1])\n",
    "        while x + dx >= 0 and x + dx <8 and y+dy >=0 and y + dy <8:\n",
    "            x+= dx\n",
    "            y+= dy\n",
    "            if [x,y] in queens:\n",
    "                result.append([x,y])\n",
    "                break\n",
    "print(result)"
   ]
  },
  {
   "cell_type": "markdown",
   "metadata": {},
   "source": [
    "### 1823. Find the Winner of the Circular Game"
   ]
  },
  {
   "cell_type": "markdown",
   "metadata": {},
   "source": [
    "<img src = 'https://assets.leetcode.com/uploads/2021/03/25/ic234-q2-ex11.png' width = \"50%\">"
   ]
  },
  {
   "cell_type": "markdown",
   "metadata": {},
   "source": [
    "There are n friends that are playing a game. The friends are sitting in a circle and are numbered from 1 to n in clockwise order. More formally, moving clockwise from the ith friend brings you to the (i+1)th friend for 1 <= i < n, and moving clockwise from the nth friend brings you to the 1st friend.\n",
    "\n",
    "The rules of the game are as follows:\n",
    "\n",
    "* Start at the 1st friend.\n",
    "* Count the next k friends in the clockwise direction including the friend you started at. The counting wraps around the circle and may count some friends more than once.\n",
    "* The last friend you counted leaves the circle and loses the game.\n",
    "* If there is still more than one friend in the circle, go back to step 2 starting from the friend immediately clockwise of the friend who just lost and repeat.\n",
    "* Else, the last friend in the circle wins the game.\n",
    "* Given the number of friends, n, and an integer k, return the winner of the game."
   ]
  },
  {
   "cell_type": "markdown",
   "metadata": {},
   "source": [
    "Input: n = 5, k = 2\n",
    "\n",
    "Output: 3\n",
    "\n",
    "Explanation: Here are the steps of the game:\n",
    "1. Start at friend 1.\n",
    "2. Count 2 friends clockwise, which are friends 1 and 2.\n",
    "3. Friend 2 leaves the circle. Next start is friend 3.\n",
    "4. Count 2 friends clockwise, which are friends 3 and 4.\n",
    "5. Friend 4 leaves the circle. Next start is friend 5.\n",
    "6. Count 2 friends clockwise, which are friends 5 and 1.\n",
    "7. Friend 1 leaves the circle. Next start is friend 3.\n",
    "8. Count 2 friends clockwise, which are friends 3 and 5.\n",
    "9. Friend 5 leaves the circle. Only friend 3 is left, so they are the winner."
   ]
  },
  {
   "cell_type": "code",
   "execution_count": 61,
   "metadata": {},
   "outputs": [
    {
     "name": "stdout",
     "output_type": "stream",
     "text": [
      "5\n",
      "[1 2 3 4 5]\n",
      "4\n",
      "[1 3 4 5]\n",
      "3\n",
      "[1 3 5]\n",
      "2\n",
      "[3 5]\n",
      "1\n",
      "[3]\n"
     ]
    }
   ],
   "source": [
    "class Solution:\n",
    "    def findTheWinner(self, n: int, k: int) -> int:\n",
    "            arr = np.arange(1,6,1)\n",
    "            start = 1\n",
    "\n",
    "            while len(arr) != 0:\n",
    "                print(len(arr))\n",
    "                print(arr)\n",
    "                try:\n",
    "                    arr = np.delete(arr, start)\n",
    "                    start += 1\n",
    "                    if start>= len(arr):\n",
    "                        start = start-len(arr)\n",
    "                except:\n",
    "                    break\n",
    "        \n",
    "sol = Solution()\n",
    "sol.findTheWinner(n = 5, k = 2)"
   ]
  },
  {
   "cell_type": "code",
   "execution_count": 46,
   "metadata": {},
   "outputs": [
    {
     "data": {
      "text/plain": [
       "5"
      ]
     },
     "execution_count": 46,
     "metadata": {},
     "output_type": "execute_result"
    }
   ],
   "source": [
    "arr = np.arange(1,6,1)\n",
    "len(np.delete(arr, 2))\n",
    "len(arr)"
   ]
  },
  {
   "cell_type": "code",
   "execution_count": null,
   "metadata": {},
   "outputs": [],
   "source": []
  },
  {
   "cell_type": "code",
   "execution_count": 64,
   "metadata": {},
   "outputs": [],
   "source": []
  },
  {
   "cell_type": "code",
   "execution_count": null,
   "metadata": {},
   "outputs": [],
   "source": []
  }
 ],
 "metadata": {
  "kernelspec": {
   "display_name": "Python 3",
   "language": "python",
   "name": "python3"
  },
  "language_info": {
   "codemirror_mode": {
    "name": "ipython",
    "version": 3
   },
   "file_extension": ".py",
   "mimetype": "text/x-python",
   "name": "python",
   "nbconvert_exporter": "python",
   "pygments_lexer": "ipython3",
   "version": "3.8.5"
  }
 },
 "nbformat": 4,
 "nbformat_minor": 4
}
